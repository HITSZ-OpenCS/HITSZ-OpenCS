{
 "cells": [
  {
   "cell_type": "code",
   "execution_count": 1,
   "metadata": {},
   "outputs": [],
   "source": [
    "import numpy as np\n",
    "from numpy import linalg as la"
   ]
  },
  {
   "cell_type": "code",
   "execution_count": 2,
   "metadata": {},
   "outputs": [
    {
     "data": {
      "text/plain": [
       "array([[0, 4, 6, 0],\n",
       "       [1, 0, 3, 4],\n",
       "       [2, 0, 3, 0]])"
      ]
     },
     "execution_count": 2,
     "metadata": {},
     "output_type": "execute_result"
    }
   ],
   "source": [
    "A = np.array([[0, 4, 6, 0], [1, 0, 3, 4], [2, 0, 3, 0]])\n",
    "A"
   ]
  },
  {
   "cell_type": "markdown",
   "metadata": {},
   "source": [
    "numpy的SVD部分分解"
   ]
  },
  {
   "cell_type": "code",
   "execution_count": 3,
   "metadata": {},
   "outputs": [],
   "source": [
    "U, S, V_t = la.svd(A, 0)"
   ]
  },
  {
   "cell_type": "code",
   "execution_count": 4,
   "metadata": {},
   "outputs": [
    {
     "data": {
      "text/plain": [
       "array([[ 0.82865413,  0.49969725, -0.25225978],\n",
       "       [ 0.43576771, -0.85873563, -0.26959158],\n",
       "       [ 0.35133863, -0.11347151,  0.92934675]])"
      ]
     },
     "execution_count": 4,
     "metadata": {},
     "output_type": "execute_result"
    }
   ],
   "source": [
    "U"
   ]
  },
  {
   "cell_type": "code",
   "execution_count": 5,
   "metadata": {},
   "outputs": [
    {
     "data": {
      "text/plain": [
       "array([8.31249063, 4.12059922, 2.21881987])"
      ]
     },
     "execution_count": 5,
     "metadata": {},
     "output_type": "execute_result"
    }
   ],
   "source": [
    "S"
   ]
  },
  {
   "cell_type": "code",
   "execution_count": 6,
   "metadata": {},
   "outputs": [
    {
     "data": {
      "text/plain": [
       "array([[ 0.13695594,  0.39875131,  0.88219574,  0.20969297],\n",
       "       [-0.26347591,  0.48507241,  0.01979374, -0.83360267],\n",
       "       [ 0.7161924 , -0.45476388,  0.20988942, -0.48600895]])"
      ]
     },
     "execution_count": 6,
     "metadata": {},
     "output_type": "execute_result"
    }
   ],
   "source": [
    "V_t"
   ]
  },
  {
   "cell_type": "code",
   "execution_count": null,
   "metadata": {},
   "outputs": [],
   "source": []
  },
  {
   "cell_type": "code",
   "execution_count": null,
   "metadata": {},
   "outputs": [],
   "source": []
  },
  {
   "cell_type": "markdown",
   "metadata": {},
   "source": [
    "结果验证"
   ]
  },
  {
   "cell_type": "code",
   "execution_count": 7,
   "metadata": {},
   "outputs": [
    {
     "data": {
      "text/plain": [
       "array([[ 4.48143437e-16,  4.00000000e+00,  6.00000000e+00,\n",
       "        -8.02283588e-16],\n",
       "       [ 1.00000000e+00,  3.81414949e-16,  3.00000000e+00,\n",
       "         4.00000000e+00],\n",
       "       [ 2.00000000e+00, -1.02784819e-16,  3.00000000e+00,\n",
       "         5.48675884e-16]])"
      ]
     },
     "execution_count": 7,
     "metadata": {},
     "output_type": "execute_result"
    }
   ],
   "source": [
    "I = np.eye(3,3)\n",
    "S2 = I * S\n",
    "np.dot(np.dot(U, S2), V_t)"
   ]
  },
  {
   "cell_type": "markdown",
   "metadata": {},
   "source": [
    "降维结果验证"
   ]
  },
  {
   "cell_type": "code",
   "execution_count": 8,
   "metadata": {},
   "outputs": [
    {
     "data": {
      "text/plain": [
       "array([[ 0.40086651,  3.74546001,  6.1174791 , -0.27202845],\n",
       "       [ 1.4284085 , -0.27202845,  3.12555063,  3.70928152],\n",
       "       [ 0.52317329,  0.93774724,  2.56719689,  1.00217623]])"
      ]
     },
     "execution_count": 8,
     "metadata": {},
     "output_type": "execute_result"
    }
   ],
   "source": [
    "S3 = S2[0:2, 0:2]\n",
    "U2 = U[:,0:2]\n",
    "V_t2 = V_t[0:2,:]\n",
    "np.dot(np.dot(U2, S3), V_t2)"
   ]
  },
  {
   "cell_type": "code",
   "execution_count": null,
   "metadata": {},
   "outputs": [],
   "source": []
  },
  {
   "cell_type": "code",
   "execution_count": null,
   "metadata": {},
   "outputs": [],
   "source": []
  },
  {
   "cell_type": "code",
   "execution_count": null,
   "metadata": {},
   "outputs": [],
   "source": []
  },
  {
   "cell_type": "code",
   "execution_count": null,
   "metadata": {},
   "outputs": [],
   "source": []
  },
  {
   "cell_type": "markdown",
   "metadata": {},
   "source": [
    "## 步骤1 计算A的转置和A<sup>T</sup>A"
   ]
  },
  {
   "cell_type": "code",
   "execution_count": 9,
   "metadata": {},
   "outputs": [
    {
     "data": {
      "text/plain": [
       "array([[0, 1, 2],\n",
       "       [4, 0, 0],\n",
       "       [6, 3, 3],\n",
       "       [0, 4, 0]])"
      ]
     },
     "execution_count": 9,
     "metadata": {},
     "output_type": "execute_result"
    }
   ],
   "source": [
    "A.transpose()"
   ]
  },
  {
   "cell_type": "code",
   "execution_count": 10,
   "metadata": {},
   "outputs": [
    {
     "data": {
      "text/plain": [
       "array([[ 5,  0,  9,  4],\n",
       "       [ 0, 16, 24,  0],\n",
       "       [ 9, 24, 54, 12],\n",
       "       [ 4,  0, 12, 16]])"
      ]
     },
     "execution_count": 10,
     "metadata": {},
     "output_type": "execute_result"
    }
   ],
   "source": [
    "AtA = np.dot(A.transpose(), A)  #X的转置与X的矩阵乘积\n",
    "AtA"
   ]
  },
  {
   "cell_type": "markdown",
   "metadata": {},
   "source": [
    "## 步骤2 确定A<sup>T</sup>A的特征值"
   ]
  },
  {
   "cell_type": "code",
   "execution_count": 11,
   "metadata": {},
   "outputs": [],
   "source": [
    "lam, vector = la.eig(AtA)  #A的转置与A的矩阵乘积的特征值和特征向量"
   ]
  },
  {
   "cell_type": "code",
   "execution_count": 12,
   "metadata": {},
   "outputs": [
    {
     "data": {
      "text/plain": [
       "array([6.90975004e+01, 1.69793380e+01, 2.47426309e-15, 4.92316164e+00])"
      ]
     },
     "execution_count": 12,
     "metadata": {},
     "output_type": "execute_result"
    }
   ],
   "source": [
    "lam"
   ]
  },
  {
   "cell_type": "code",
   "execution_count": 13,
   "metadata": {},
   "outputs": [
    {
     "data": {
      "text/plain": [
       "array([[ 0.13695594,  0.26347591,  0.63157895, -0.7161924 ],\n",
       "       [ 0.39875131, -0.48507241,  0.63157895,  0.45476388],\n",
       "       [ 0.88219574, -0.01979374, -0.42105263, -0.20988942],\n",
       "       [ 0.20969297,  0.83360267,  0.15789474,  0.48600895]])"
      ]
     },
     "execution_count": 13,
     "metadata": {},
     "output_type": "execute_result"
    }
   ],
   "source": [
    "vector"
   ]
  },
  {
   "cell_type": "markdown",
   "metadata": {},
   "source": [
    "验证特征值"
   ]
  },
  {
   "cell_type": "code",
   "execution_count": 14,
   "metadata": {},
   "outputs": [
    {
     "name": "stdout",
     "output_type": "stream",
     "text": [
      "6.091582268188108e-09\n",
      "2.0826999696654314e-11\n",
      "-1.5944578990456706e-11\n",
      "4.162547661234323e-12\n"
     ]
    }
   ],
   "source": [
    "for i in range(4):\n",
    "    I = np.eye(4, 4, dtype=float)\n",
    "    X = I * lam[i]\n",
    "    print(la.det(AtA-X))  #验证行列式是否为0"
   ]
  },
  {
   "cell_type": "markdown",
   "metadata": {},
   "source": [
    "取最大三位特征值"
   ]
  },
  {
   "cell_type": "code",
   "execution_count": 15,
   "metadata": {},
   "outputs": [
    {
     "data": {
      "text/plain": [
       "array([69.0975004 , 16.97933796,  4.92316164])"
      ]
     },
     "execution_count": 15,
     "metadata": {},
     "output_type": "execute_result"
    }
   ],
   "source": [
    "lam = lam[[0, 1, 3]]\n",
    "lam"
   ]
  },
  {
   "cell_type": "code",
   "execution_count": null,
   "metadata": {},
   "outputs": [],
   "source": []
  },
  {
   "cell_type": "markdown",
   "metadata": {},
   "source": [
    "## 步骤3 根据特征值构建对角矩阵S和S<sup>-1</sup>"
   ]
  },
  {
   "cell_type": "markdown",
   "metadata": {},
   "source": [
    "特征值开方"
   ]
  },
  {
   "cell_type": "code",
   "execution_count": 16,
   "metadata": {},
   "outputs": [
    {
     "data": {
      "text/plain": [
       "array([8.31249063, 4.12059922, 2.21881987])"
      ]
     },
     "execution_count": 16,
     "metadata": {},
     "output_type": "execute_result"
    }
   ],
   "source": [
    "s = np.sqrt(lam)\n",
    "s"
   ]
  },
  {
   "cell_type": "markdown",
   "metadata": {},
   "source": [
    "构造S"
   ]
  },
  {
   "cell_type": "code",
   "execution_count": 17,
   "metadata": {},
   "outputs": [
    {
     "data": {
      "text/plain": [
       "array([[8.31249063, 0.        , 0.        ],\n",
       "       [0.        , 4.12059922, 0.        ],\n",
       "       [0.        , 0.        , 2.21881987]])"
      ]
     },
     "execution_count": 17,
     "metadata": {},
     "output_type": "execute_result"
    }
   ],
   "source": [
    "I = np.eye(3, 3, dtype=float)\n",
    "S = I * s\n",
    "S"
   ]
  },
  {
   "cell_type": "markdown",
   "metadata": {},
   "source": [
    "构造S<sup>-1</sup>"
   ]
  },
  {
   "cell_type": "code",
   "execution_count": 18,
   "metadata": {},
   "outputs": [
    {
     "data": {
      "text/plain": [
       "array([[0.12030089, 0.        , 0.        ],\n",
       "       [0.        , 0.24268315, 0.        ],\n",
       "       [0.        , 0.        , 0.45069003]])"
      ]
     },
     "execution_count": 18,
     "metadata": {},
     "output_type": "execute_result"
    }
   ],
   "source": [
    "S_inv = la.inv(S)\n",
    "S_inv"
   ]
  },
  {
   "cell_type": "code",
   "execution_count": null,
   "metadata": {},
   "outputs": [],
   "source": []
  },
  {
   "cell_type": "markdown",
   "metadata": {},
   "source": [
    "## 步骤4 根据A<sup>T</sup>A特征向量生成V和V<sup>t</sup>"
   ]
  },
  {
   "cell_type": "markdown",
   "metadata": {},
   "source": [
    "根据特征向量X1,X2,X3构造V=(X1,X2,X3)"
   ]
  },
  {
   "cell_type": "markdown",
   "metadata": {},
   "source": [
    "由于特征向量无唯一解，取已得到的SVD分解的V做特征向量，代入进行验证"
   ]
  },
  {
   "cell_type": "code",
   "execution_count": 19,
   "metadata": {},
   "outputs": [
    {
     "name": "stdout",
     "output_type": "stream",
     "text": [
      "i = 0\n",
      "[[-64.0975004   0.          9.          4.       ]\n",
      " [  0.        -53.0975004  24.          0.       ]\n",
      " [  9.         24.        -15.0975004  12.       ]\n",
      " [  4.          0.         12.        -53.0975004]]\n",
      "[0.13695594 0.39875131 0.88219574 0.20969297]\n",
      "[-1.24344979e-14 -7.10542736e-15 -2.13162821e-14 -7.54951657e-15]\n",
      "\n",
      "\n",
      "i = 1\n",
      "[[-11.97933796   0.           9.           4.        ]\n",
      " [  0.          -0.97933796  24.           0.        ]\n",
      " [  9.          24.          37.02066204  12.        ]\n",
      " [  4.           0.          12.          -0.97933796]]\n",
      "[-0.26347591  0.48507241  0.01979374 -0.83360267]\n",
      "[-8.88178420e-16  1.16573418e-15 -1.77635684e-15 -1.33226763e-15]\n",
      "\n",
      "\n",
      "i = 2\n",
      "[[ 0.07683836  0.          9.          4.        ]\n",
      " [ 0.         11.07683836 24.          0.        ]\n",
      " [ 9.         24.         49.07683836 12.        ]\n",
      " [ 4.          0.         12.         11.07683836]]\n",
      "[ 0.7161924  -0.45476388  0.20988942 -0.48600895]\n",
      "[2.35228503e-15 8.88178420e-16 7.99360578e-15 6.66133815e-15]\n",
      "\n",
      "\n"
     ]
    }
   ],
   "source": [
    "for i in range(3):\n",
    "    I = np.eye(4, 4, dtype=float)\n",
    "    X = I * lam[i]\n",
    "    print(\"i =\",i)\n",
    "    print(AtA - X)\n",
    "    print(V_t[i])\n",
    "    print(np.dot(AtA - X, V_t[i]))  #检验乘积结果是否为0向量\n",
    "    print(\"\\n\")"
   ]
  },
  {
   "cell_type": "code",
   "execution_count": null,
   "metadata": {},
   "outputs": [],
   "source": []
  },
  {
   "cell_type": "markdown",
   "metadata": {},
   "source": [
    "## 步骤5 计算U"
   ]
  },
  {
   "cell_type": "markdown",
   "metadata": {},
   "source": [
    "U = AVS<sup>-1<sup>"
   ]
  },
  {
   "cell_type": "code",
   "execution_count": 20,
   "metadata": {},
   "outputs": [
    {
     "data": {
      "text/plain": [
       "array([[0, 4, 6, 0],\n",
       "       [1, 0, 3, 4],\n",
       "       [2, 0, 3, 0]])"
      ]
     },
     "execution_count": 20,
     "metadata": {},
     "output_type": "execute_result"
    }
   ],
   "source": [
    "A"
   ]
  },
  {
   "cell_type": "code",
   "execution_count": 21,
   "metadata": {},
   "outputs": [
    {
     "data": {
      "text/plain": [
       "array([[ 0.13695594, -0.26347591,  0.7161924 ],\n",
       "       [ 0.39875131,  0.48507241, -0.45476388],\n",
       "       [ 0.88219574,  0.01979374,  0.20988942],\n",
       "       [ 0.20969297, -0.83360267, -0.48600895]])"
      ]
     },
     "execution_count": 21,
     "metadata": {},
     "output_type": "execute_result"
    }
   ],
   "source": [
    "V = V_t.transpose()\n",
    "V"
   ]
  },
  {
   "cell_type": "code",
   "execution_count": 22,
   "metadata": {},
   "outputs": [
    {
     "data": {
      "text/plain": [
       "array([[0.12030089, 0.        , 0.        ],\n",
       "       [0.        , 0.24268315, 0.        ],\n",
       "       [0.        , 0.        , 0.45069003]])"
      ]
     },
     "execution_count": 22,
     "metadata": {},
     "output_type": "execute_result"
    }
   ],
   "source": [
    "S_inv"
   ]
  },
  {
   "cell_type": "code",
   "execution_count": 23,
   "metadata": {},
   "outputs": [
    {
     "data": {
      "text/plain": [
       "array([[ 0.01647592, -0.06394116,  0.32278077],\n",
       "       [ 0.04797014,  0.1177189 , -0.20495755],\n",
       "       [ 0.10612893,  0.00480361,  0.09459507],\n",
       "       [ 0.02522625, -0.20230132, -0.21903939]])"
      ]
     },
     "execution_count": 23,
     "metadata": {},
     "output_type": "execute_result"
    }
   ],
   "source": [
    "temp = np.dot(V, S_inv)\n",
    "temp"
   ]
  },
  {
   "cell_type": "code",
   "execution_count": 24,
   "metadata": {},
   "outputs": [
    {
     "data": {
      "text/plain": [
       "array([[ 0.82865413,  0.49969725, -0.25225978],\n",
       "       [ 0.43576771, -0.85873563, -0.26959158],\n",
       "       [ 0.35133863, -0.11347151,  0.92934675]])"
      ]
     },
     "execution_count": 24,
     "metadata": {},
     "output_type": "execute_result"
    }
   ],
   "source": [
    "np.dot(A, temp)          "
   ]
  },
  {
   "cell_type": "markdown",
   "metadata": {},
   "source": [
    "同直接得到的U参考比较"
   ]
  },
  {
   "cell_type": "code",
   "execution_count": 25,
   "metadata": {},
   "outputs": [
    {
     "data": {
      "text/plain": [
       "array([[ 0.82865413,  0.49969725, -0.25225978],\n",
       "       [ 0.43576771, -0.85873563, -0.26959158],\n",
       "       [ 0.35133863, -0.11347151,  0.92934675]])"
      ]
     },
     "execution_count": 25,
     "metadata": {},
     "output_type": "execute_result"
    }
   ],
   "source": [
    "U"
   ]
  },
  {
   "cell_type": "code",
   "execution_count": null,
   "metadata": {},
   "outputs": [],
   "source": []
  }
 ],
 "metadata": {
  "kernelspec": {
   "display_name": "Python 3",
   "language": "python",
   "name": "python3"
  },
  "language_info": {
   "codemirror_mode": {
    "name": "ipython",
    "version": 3
   },
   "file_extension": ".py",
   "mimetype": "text/x-python",
   "name": "python",
   "nbconvert_exporter": "python",
   "pygments_lexer": "ipython3",
   "version": "3.7.7"
  }
 },
 "nbformat": 4,
 "nbformat_minor": 4
}
